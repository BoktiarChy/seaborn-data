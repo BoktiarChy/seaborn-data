{
  "nbformat": 4,
  "nbformat_minor": 0,
  "metadata": {
    "colab": {
      "name": "Tut01-B .ipynb",
      "provenance": [],
      "authorship_tag": "ABX9TyNkTx1InMlwXbV/spDjx/5W",
      "include_colab_link": true
    },
    "kernelspec": {
      "name": "python3",
      "display_name": "Python 3"
    }
  },
  "cells": [
    {
      "cell_type": "markdown",
      "metadata": {
        "id": "view-in-github",
        "colab_type": "text"
      },
      "source": [
        "<a href=\"https://colab.research.google.com/github/BoktiarChy/seaborn-data/blob/master/Tut01_B_Population%20.ipynb\" target=\"_parent\"><img src=\"https://colab.research.google.com/assets/colab-badge.svg\" alt=\"Open In Colab\"/></a>"
      ]
    },
    {
      "cell_type": "code",
      "metadata": {
        "id": "7aV8ajACTKlc"
      },
      "source": [
        "import matplotlib.pyplot as plt\n",
        "import pandas as pd\n",
        "import numpy as np\n",
        "\n",
        "data = pd.read_csv('https://tinyurl.com/ChrisCoDV/world_population.csv', index_col=0)\n",
        "\n",
        "\n"
      ],
      "execution_count": 129,
      "outputs": []
    },
    {
      "cell_type": "code",
      "metadata": {
        "colab": {
          "base_uri": "https://localhost:8080/"
        },
        "id": "594l7ga6TVri",
        "outputId": "7d48e297-414c-47ff-f926-c0065a82a30c"
      },
      "source": [
        "data= data.transpose()\n",
        "print(data.head())\n"
      ],
      "execution_count": 130,
      "outputs": [
        {
          "output_type": "stream",
          "text": [
            "Country Name                                                Aruba  ...                                           Zimbabwe\n",
            "Country Code                                                  ABW  ...                                                ZWE\n",
            "Indicator Name  Population density (people per sq. km of land ...  ...  Population density (people per sq. km of land ...\n",
            "Indicator Code                                        EN.POP.DNST  ...                                        EN.POP.DNST\n",
            "1960                                                          NaN  ...                                                NaN\n",
            "1961                                                      307.972  ...                                             10.021\n",
            "\n",
            "[5 rows x 264 columns]\n"
          ],
          "name": "stdout"
        }
      ]
    },
    {
      "cell_type": "code",
      "metadata": {
        "id": "bQ0GaaOTbeFi"
      },
      "source": [
        ""
      ],
      "execution_count": 130,
      "outputs": []
    },
    {
      "cell_type": "code",
      "metadata": {
        "colab": {
          "base_uri": "https://localhost:8080/"
        },
        "id": "L2RBFQE0Ufh6",
        "outputId": "21afd1b4-8589-4da6-c7ad-27ccc87517e7"
      },
      "source": [
        "#Drop rows\n",
        "\n",
        "selected= ['Country Code', 'Indicator Name', 'Indicator Code']\n",
        "\n",
        "data= data.drop(selected, axis=0)\n",
        "print(data)\n",
        "\n",
        "\n",
        "\n"
      ],
      "execution_count": 131,
      "outputs": [
        {
          "output_type": "stream",
          "text": [
            "Country Name    Aruba  Andorra Afghanistan  ... Congo, Dem. Rep.   Zambia Zimbabwe\n",
            "1960              NaN      NaN         NaN  ...              NaN      NaN      NaN\n",
            "1961          307.972  30.5872     14.0381  ...          6.89783  4.22772   10.021\n",
            "1962          312.367  32.7149     14.3121  ...          7.07582  4.35931  10.3561\n",
            "1963          314.983  34.9149     14.5997  ...          7.26138  4.49682  10.7039\n",
            "1964          316.828  37.1702     14.9016  ...          7.45634  4.63991  11.0626\n",
            "1965          318.667  39.4702     15.2182  ...          7.66188  4.78845  11.4311\n",
            "1966          320.622     41.8     15.5452  ...           7.8789  4.94234   11.809\n",
            "1967          322.494  44.1596     15.8818  ...          8.10665  5.10212  12.1975\n",
            "1968          324.361  46.5702     16.2359  ...          8.34264  5.26901  12.5995\n",
            "1969          326.244   49.066     16.6184  ...          8.58335  5.44462  13.0188\n",
            "1970          328.139  51.6574     17.0344  ...          8.82641  5.63012  13.4582\n",
            "1971          330.211   54.383     17.4813  ...          9.07043  5.82602   13.921\n",
            "1972          332.494   57.217      17.947  ...          9.31651  6.03202  14.4069\n",
            "1973          334.661   60.066     18.4151  ...          9.56777   6.2475  14.9112\n",
            "1974           336.25  62.7957      18.864  ...          9.82867  6.47145  15.4268\n",
            "1975          336.972  65.3319     19.2736  ...          10.1022   6.7031  15.9501\n",
            "1976          336.606  67.6191     19.6541  ...          10.3909  6.94194  16.4766\n",
            "1977          335.367  69.7213     19.9989  ...          10.6935  7.18808  17.0111\n",
            "1978          333.922     71.8     20.2533  ...          11.0047  7.44206    17.57\n",
            "1979          333.211   74.083     20.3463  ...          11.3171  7.70467  18.1754\n",
            "1980          333.867  76.7298     20.2362  ...          11.6263  7.97629  18.8421\n",
            "1981          336.483  79.7915     19.9077  ...          11.9314  8.25686  19.5734\n",
            "1982            340.8   83.217     19.4023  ...          12.2367  8.54539  20.3604\n",
            "1983          345.578  86.9404     18.8082  ...          12.5485  8.84014  21.1905\n",
            "1984          349.061  90.8596     18.2467  ...          12.8761  9.13882  22.0456\n",
            "1985          350.156  94.8872     17.8147  ...          13.2267  9.43958  22.9097\n",
            "1986          348.022  98.9681     17.5213  ...          13.5988  9.74253  23.7789\n",
            "1987          343.528  103.102     17.3666  ...          13.9924  10.0476  24.6495\n",
            "1988          339.317    107.3     17.4245  ...          14.4191  10.3527  25.5054\n",
            "1989          339.067  111.594     17.7808  ...          14.8929  10.6553  26.3279\n",
            "1990          345.267  115.981     18.4842  ...          15.4221  10.9541  27.1029\n",
            "1991          359.017  120.583     19.5898  ...          16.0161  11.2476  27.8222\n",
            "1992          379.083  125.328     21.0545  ...          16.6665  11.5377  28.4858\n",
            "1993          402.767  129.794     22.7068  ...          17.3419  11.8297  29.0979\n",
            "1994          426.111  133.419     24.3084  ...          17.9987  12.1312  29.6673\n",
            "1995          446.256   135.86     25.6908  ...          18.6073  12.4477  30.2007\n",
            "1996          462.194  136.789     26.7773  ...          19.1548  12.7825  30.7035\n",
            "1997          474.706  136.483     27.6233  ...          19.6548  13.1341  31.1745\n",
            "1998          484.867  135.932     28.3544  ...          20.1354  13.4982  31.6059\n",
            "1999          494.467  136.513     29.1616  ...          20.6384   13.868  31.9866\n",
            "2000          504.767  139.147     30.1779  ...          21.1944  14.2391  32.3122\n",
            "2001          516.078  144.191      31.448  ...          21.8121  14.6104  32.5811\n",
            "2002           527.75  151.162     32.9122  ...          22.4836  14.9854  32.8071\n",
            "2003          538.972  159.113      34.475  ...          23.2029  15.3701   33.021\n",
            "2004          548.567  166.674     35.9952  ...          23.9584  15.7732  33.2631\n",
            "2005          555.728  172.815     37.3739  ...          24.7412  16.2009  33.5645\n",
            "2006          560.167  177.389     38.5743  ...          25.5516  16.6555  33.9355\n",
            "2007          562.322  180.591     39.6372  ...          26.3933  17.1359  34.3746\n",
            "2008          563.011  182.162     40.6347  ...          27.2642  17.6416  34.8855\n",
            "2009          563.422   181.86      41.674  ...          28.1622  18.1706  35.4685\n",
            "2010          564.428  179.615     42.8303  ...          29.0857  18.7216  36.1223\n",
            "2011          566.311  175.162     44.1276  ...          30.0335  19.2948  36.8504\n",
            "2012           568.85  168.757     45.5332  ...          31.0056  19.8907  37.6515\n",
            "2013          571.783  161.494     46.9971  ...          32.0032  20.5089  38.5113\n",
            "2014          574.672  154.864     48.4445  ...          33.0284  21.1482  39.4102\n",
            "2015          577.161  149.943     49.8216  ...          34.0825  21.8079  40.3328\n",
            "2016              NaN      NaN         NaN  ...              NaN      NaN      NaN\n",
            "\n",
            "[57 rows x 264 columns]\n"
          ],
          "name": "stdout"
        }
      ]
    },
    {
      "cell_type": "code",
      "metadata": {
        "id": "e20ZtMUJsHFb"
      },
      "source": [
        ""
      ],
      "execution_count": null,
      "outputs": []
    },
    {
      "cell_type": "code",
      "metadata": {
        "id": "-wMXv4RnYNsK"
      },
      "source": [
        "#Sorting \n",
        "\n",
        "data=data.reindex(data.mean().sort_values(ascending=False).index, axis=1)"
      ],
      "execution_count": 132,
      "outputs": []
    },
    {
      "cell_type": "code",
      "metadata": {
        "colab": {
          "base_uri": "https://localhost:8080/"
        },
        "id": "SQhYBnxPiCc-",
        "outputId": "c1e80ed5-b33d-4c05-c970-2b2f8f6e6ad0"
      },
      "source": [
        "print(data.mean())\n"
      ],
      "execution_count": 133,
      "outputs": [
        {
          "output_type": "stream",
          "text": [
            "Country Name\n",
            "Macao SAR, China        15403.478649\n",
            "Monaco                  14643.918182\n",
            "Hong Kong SAR, China     5370.407475\n",
            "Singapore                4731.118204\n",
            "Gibraltar                2688.887273\n",
            "                            ...     \n",
            "Namibia                     1.702577\n",
            "Mongolia                    1.272402\n",
            "Greenland                   0.141078\n",
            "Not classified                   NaN\n",
            "South Sudan                      NaN\n",
            "Length: 264, dtype: float64\n"
          ],
          "name": "stdout"
        }
      ]
    },
    {
      "cell_type": "code",
      "metadata": {
        "id": "O7RGc9GtbgTY"
      },
      "source": [
        ""
      ],
      "execution_count": 133,
      "outputs": []
    },
    {
      "cell_type": "markdown",
      "metadata": {
        "id": "3USmRBtfiygn"
      },
      "source": [
        "**China , Monaco and Hongkong are the largest three country with 15403, 14643 and 5370 people respectively.**"
      ]
    },
    {
      "cell_type": "code",
      "metadata": {
        "colab": {
          "base_uri": "https://localhost:8080/",
          "height": 1000
        },
        "id": "uEYLcISujUWg",
        "outputId": "35a2bc47-50c0-4b0c-9cf6-2f3965096717"
      },
      "source": [
        "select2= data.columns[data.mean()> 5000]\n",
        "\n",
        "data= data[select2]\n",
        "\n",
        "print(data)\n",
        "\n",
        "\n",
        "data.plot.line()\n",
        "plt.show()"
      ],
      "execution_count": 134,
      "outputs": [
        {
          "output_type": "stream",
          "text": [
            "Country Name Macao SAR, China   Monaco Hong Kong SAR, China\n",
            "1960                      NaN      NaN                  NaN\n",
            "1961                  8756.75    11406              3105.98\n",
            "1962                  9051.25    11521              3240.39\n",
            "1963                  9435.15  11584.5              3353.82\n",
            "1964                  9876.15  11618.5              3435.88\n",
            "1965                  10345.5  11641.5              3527.35\n",
            "1966                  10843.6    11652              3558.73\n",
            "1967                  11362.9  11648.5               3649.8\n",
            "1968                  11856.5    11648              3728.14\n",
            "1969                  12265.5    11674              3788.14\n",
            "1970                  12549.9    11742              3881.37\n",
            "1971                    12694    11861              3965.98\n",
            "1972                  12714.1    12026              4042.75\n",
            "1973                  12642.2    12220              4158.43\n",
            "1974                  12527.5  12417.5              4249.22\n",
            "1975                  12410.6  12600.5              4417.43\n",
            "1976                  12295.8  12760.5              4473.27\n",
            "1977                  12186.5  12904.5               4583.7\n",
            "1978                  12122.9    13043               4667.5\n",
            "1979                  12153.6  13195.5               4929.7\n",
            "1980                  12311.8    13373               5063.1\n",
            "1981                  12612.9  13582.5               5183.4\n",
            "1982                    13046  13814.5              5317.68\n",
            "1983                  13583.7    14049              5399.09\n",
            "1984                  14183.6    14257              5452.42\n",
            "1985                  14811.1    14418              5511.31\n",
            "1986                  15461.3    14524               5580.4\n",
            "1987                  16132.8  14584.5              5646.97\n",
            "1988                  16797.6    14619              5684.44\n",
            "1989                  17423.3  14656.5              5743.64\n",
            "1990                  17986.8    14719              5762.12\n",
            "1991                  18474.2    14813               5810.1\n",
            "1992                    18890    14932              5859.09\n",
            "1993                    19252    15069              5960.61\n",
            "1994                  19589.2  15211.5              6096.36\n",
            "1995                    19923    15350              5862.95\n",
            "1996                  20261.5  15485.5              6129.05\n",
            "1997                  20601.5    15621              6180.29\n",
            "1998                  20940.5  15758.5               6232.1\n",
            "1999                  21272.4  15897.5               6291.9\n",
            "2000                  21595.3  16040.5              6347.62\n",
            "2001                  16849.5    16182              6394.57\n",
            "2002                    16451    16324              6422.95\n",
            "2003                  16694.6    16480              6410.29\n",
            "2004                  16377.8  16669.5              6460.48\n",
            "2005                  16719.6    16904              6488.76\n",
            "2006                  16773.7    17192              6530.57\n",
            "2007                  16884.3    17523              6586.95\n",
            "2008                  17372.4  17865.5              6626.48\n",
            "2009                  17674.7  18175.5              6640.76\n",
            "2010                  18000.9  18422.5              6689.71\n",
            "2011                  18283.7  18594.5              6734.86\n",
            "2012                  18654.3    18702               6813.9\n",
            "2013                  18747.7    18764              6845.24\n",
            "2014                  19073.1  18811.5              6896.86\n",
            "2015                  19392.9  18865.5              6957.81\n",
            "2016                      NaN      NaN                  NaN\n"
          ],
          "name": "stdout"
        },
        {
          "output_type": "display_data",
          "data": {
            "image/png": "[encoded data removed]",
            "text/plain": [
              "<Figure size 432x288 with 1 Axes>"
            ]
          },
          "metadata": {
            "tags": [],
            "needs_background": "light"
          }
        }
      ]
    }
  ]
}